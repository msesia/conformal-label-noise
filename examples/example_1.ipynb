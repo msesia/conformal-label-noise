{
 "cells": [
  {
   "cell_type": "markdown",
   "id": "0c8e500c",
   "metadata": {},
   "source": [
    "# Adaptive conformal classification with noisy labels\n",
    "\n",
    "This software tutorial demonstrates the use of the methods described in the following paper:\n",
    "\n",
    ">  \"Adaptive conformal classification with noisy labels\" <br>\n",
    ">  Matteo Sesia, Y. X. Rachel Wang, Xin Tong <br>\n",
    ">  arXiv preprint\n",
    "\n",
    "This paper develops novel conformal prediction methods for classification tasks that can automatically adapt to random label contamination in the calibration sample, enabling more informative prediction sets with stronger coverage guarantees compared to state-of-the-art approaches. This is made possible by a precise theoretical characterization of the effective coverage inflation (or deflation) suffered by standard conformal inferences in the presence of label contamination, which is then made actionable through new calibration algorithms. Our solution is flexible and can leverage different modeling assumptions about the label contamination process, while requiring no knowledge about the data distribution or the inner workings of the machine-learning classifier. The advantages of the proposed methods are demonstrated through extensive simulations and an application to object classification with the CIFAR-10H image data set."
   ]
  },
  {
   "cell_type": "markdown",
   "id": "dc499ee4",
   "metadata": {},
   "source": [
    "## Setup"
   ]
  },
  {
   "cell_type": "code",
   "execution_count": 1,
   "id": "d85a9625",
   "metadata": {},
   "outputs": [],
   "source": [
    "%load_ext autoreload\n",
    "%autoreload 2\n",
    "\n",
    "import numpy as np\n",
    "import scipy as sp\n",
    "from sklearn.model_selection import train_test_split\n",
    "from sklearn.datasets import make_classification\n",
    "\n",
    "from scipy import stats\n",
    "\n",
    "import pandas as pd\n",
    "from matplotlib import pyplot as plt \n",
    "import seaborn as sns\n",
    "\n",
    "from tqdm import tqdm\n",
    "import pdb\n",
    "\n",
    "import sys\n",
    "sys.path.append(\"..\")\n",
    "sys.path.append(\"../third_party\")\n",
    "\n",
    "from cln import data\n",
    "from cln import contamination\n",
    "from cln.utils import evaluate_predictions, evaluate_predictions_cc\n",
    "\n",
    "from cln.classification import LNSplitConformal\n",
    "\n",
    "from third_party import arc"
   ]
  },
  {
   "cell_type": "markdown",
   "id": "1a205960",
   "metadata": {},
   "source": [
    "## Generate a classification data set with noisy labels"
   ]
  },
  {
   "cell_type": "code",
   "execution_count": 2,
   "id": "84e68099",
   "metadata": {},
   "outputs": [],
   "source": [
    "# Number of features\n",
    "p = 50\n",
    "\n",
    "# Number of classes\n",
    "K = 4\n",
    "\n",
    "# Sample sizes\n",
    "n_train = 5000\n",
    "n_cal = 2000\n",
    "n_test = 2000\n",
    "\n",
    "# Random seed\n",
    "random_state = 2023\n",
    "\n",
    "# Initialize data generating model\n",
    "model = data.DataModel_1(K, p, signal=1, random_state=random_state)"
   ]
  },
  {
   "cell_type": "code",
   "execution_count": 3,
   "id": "f1354a7b",
   "metadata": {},
   "outputs": [],
   "source": [
    "# Generate a large set of clean data\n",
    "X_all, Y_all = model.sample(n_train+n_cal+n_test)\n",
    "\n",
    "# Separate the test set\n",
    "X, X_test, Y, Y_test = train_test_split(X_all, Y_all, test_size=n_test, random_state=random_state)"
   ]
  },
  {
   "cell_type": "code",
   "execution_count": 4,
   "id": "c0b4d4a0",
   "metadata": {},
   "outputs": [
    {
     "name": "stdout",
     "output_type": "stream",
     "text": [
      "Label proportions (clean):\n",
      "[0.24857143 0.253      0.248      0.25042857]\n",
      "Label proportions (contaminated):\n",
      "[0.24942857 0.25114286 0.24914286 0.25028571]\n"
     ]
    }
   ],
   "source": [
    "# Define M-matrix for noise contamination model\n",
    "epsilon = 0.1\n",
    "M = contamination.construct_M_matrix_simple(K, epsilon)\n",
    "\n",
    "# Set the expected label frequencies for the contaminated labels equal to the label frequencies for the clean labels\n",
    "rho = model.estimate_rho()\n",
    "rho_tilde = rho\n",
    "\n",
    "# Generate the contaminated labels\n",
    "contamination_model = contamination.LinearContaminationModel(K, M, rho, rho_tilde, random_state=random_state)\n",
    "Yt = contamination_model.sample_labels(Y)\n",
    "\n",
    "# Evaluate empirical label proportions\n",
    "def estimate_rho(Y, K):\n",
    "    rho = np.ones((K,))\n",
    "    for k in range(K):\n",
    "        rho[k] = np.mean(Y==k)\n",
    "    return rho\n",
    "\n",
    "print(\"Label proportions (clean):\")\n",
    "print(estimate_rho(Y,K))\n",
    "print(\"Label proportions (contaminated):\")\n",
    "print(estimate_rho(Yt,K))"
   ]
  },
  {
   "cell_type": "markdown",
   "id": "5d307a40",
   "metadata": {},
   "source": [
    "## Standard conformal prediction sets"
   ]
  },
  {
   "cell_type": "code",
   "execution_count": 5,
   "id": "1a9ee835",
   "metadata": {},
   "outputs": [],
   "source": [
    "# Significance level for the prediction sets\n",
    "alpha = 0.1\n",
    "\n",
    "# Initialize a black-box classifier\n",
    "black_box = arc.black_boxes.RFC(n_estimators=100)"
   ]
  },
  {
   "cell_type": "code",
   "execution_count": 6,
   "id": "22df5cf6",
   "metadata": {},
   "outputs": [],
   "source": [
    "# Pre-train the classifier using the training data\n",
    "method_tr = arc.methods.SplitConformal(X, Yt, black_box, K, alpha, n_cal=n_cal, \n",
    "                                       label_conditional=True, allow_empty=True, \n",
    "                                       random_state=random_state)\n",
    "\n",
    "# Extract pre-trained model\n",
    "black_box_pt = method_tr.black_box"
   ]
  },
  {
   "cell_type": "code",
   "execution_count": 7,
   "id": "37765d31",
   "metadata": {},
   "outputs": [
    {
     "data": {
      "text/html": [
       "<div>\n",
       "<style scoped>\n",
       "    .dataframe tbody tr th:only-of-type {\n",
       "        vertical-align: middle;\n",
       "    }\n",
       "\n",
       "    .dataframe tbody tr th {\n",
       "        vertical-align: top;\n",
       "    }\n",
       "\n",
       "    .dataframe thead th {\n",
       "        text-align: right;\n",
       "    }\n",
       "</style>\n",
       "<table border=\"1\" class=\"dataframe\">\n",
       "  <thead>\n",
       "    <tr style=\"text-align: right;\">\n",
       "      <th></th>\n",
       "      <th>Coverage</th>\n",
       "      <th>Size</th>\n",
       "      <th>Label</th>\n",
       "    </tr>\n",
       "  </thead>\n",
       "  <tbody>\n",
       "    <tr>\n",
       "      <th>0</th>\n",
       "      <td>0.938000</td>\n",
       "      <td>1.922500</td>\n",
       "      <td>marginal</td>\n",
       "    </tr>\n",
       "    <tr>\n",
       "      <th>0</th>\n",
       "      <td>0.940828</td>\n",
       "      <td>1.927022</td>\n",
       "      <td>0</td>\n",
       "    </tr>\n",
       "    <tr>\n",
       "      <th>0</th>\n",
       "      <td>0.911950</td>\n",
       "      <td>1.958071</td>\n",
       "      <td>1</td>\n",
       "    </tr>\n",
       "    <tr>\n",
       "      <th>0</th>\n",
       "      <td>0.947266</td>\n",
       "      <td>1.953125</td>\n",
       "      <td>2</td>\n",
       "    </tr>\n",
       "    <tr>\n",
       "      <th>0</th>\n",
       "      <td>0.950397</td>\n",
       "      <td>1.853175</td>\n",
       "      <td>3</td>\n",
       "    </tr>\n",
       "  </tbody>\n",
       "</table>\n",
       "</div>"
      ],
      "text/plain": [
       "   Coverage      Size     Label\n",
       "0  0.938000  1.922500  marginal\n",
       "0  0.940828  1.927022         0\n",
       "0  0.911950  1.958071         1\n",
       "0  0.947266  1.953125         2\n",
       "0  0.950397  1.853175         3"
      ]
     },
     "execution_count": 7,
     "metadata": {},
     "output_type": "execute_result"
    }
   ],
   "source": [
    "# Calibrate the prediction sets\n",
    "method_0 = arc.methods.SplitConformal(X, Yt, black_box_pt, K, alpha, n_cal=n_cal, \n",
    "                                      label_conditional=True, allow_empty=True, \n",
    "                                      pre_trained=True, random_state=random_state)\n",
    "\n",
    "# Construct the prediction sets for the test data\n",
    "S_0 = method_0.predict(X_test)\n",
    "\n",
    "# Evaluate the prediction sets\n",
    "res_0 = evaluate_predictions(S_0, X_test, Y_test, K, verbose=False)\n",
    "res_0"
   ]
  },
  {
   "cell_type": "markdown",
   "id": "2d84adb5",
   "metadata": {},
   "source": [
    "## Conformal prediction sets adaptive to label noise"
   ]
  },
  {
   "cell_type": "code",
   "execution_count": 8,
   "id": "d72632ea",
   "metadata": {},
   "outputs": [
    {
     "name": "stdout",
     "output_type": "stream",
     "text": [
      "Skipping training.\n",
      "Evaluating conformity scores on 2000 calibration samples...\n",
      "Evaluation of conformity scores completed.\n",
      "Calibrating conformity scores for 4 classes...\n",
      "Calibration of conformity scores completed.\n"
     ]
    },
    {
     "data": {
      "text/html": [
       "<div>\n",
       "<style scoped>\n",
       "    .dataframe tbody tr th:only-of-type {\n",
       "        vertical-align: middle;\n",
       "    }\n",
       "\n",
       "    .dataframe tbody tr th {\n",
       "        vertical-align: top;\n",
       "    }\n",
       "\n",
       "    .dataframe thead th {\n",
       "        text-align: right;\n",
       "    }\n",
       "</style>\n",
       "<table border=\"1\" class=\"dataframe\">\n",
       "  <thead>\n",
       "    <tr style=\"text-align: right;\">\n",
       "      <th></th>\n",
       "      <th>Coverage</th>\n",
       "      <th>Size</th>\n",
       "      <th>Label</th>\n",
       "    </tr>\n",
       "  </thead>\n",
       "  <tbody>\n",
       "    <tr>\n",
       "      <th>0</th>\n",
       "      <td>0.921500</td>\n",
       "      <td>1.820500</td>\n",
       "      <td>marginal</td>\n",
       "    </tr>\n",
       "    <tr>\n",
       "      <th>0</th>\n",
       "      <td>0.917160</td>\n",
       "      <td>1.763314</td>\n",
       "      <td>0</td>\n",
       "    </tr>\n",
       "    <tr>\n",
       "      <th>0</th>\n",
       "      <td>0.890985</td>\n",
       "      <td>1.886792</td>\n",
       "      <td>1</td>\n",
       "    </tr>\n",
       "    <tr>\n",
       "      <th>0</th>\n",
       "      <td>0.935547</td>\n",
       "      <td>1.857422</td>\n",
       "      <td>2</td>\n",
       "    </tr>\n",
       "    <tr>\n",
       "      <th>0</th>\n",
       "      <td>0.940476</td>\n",
       "      <td>1.777778</td>\n",
       "      <td>3</td>\n",
       "    </tr>\n",
       "  </tbody>\n",
       "</table>\n",
       "</div>"
      ],
      "text/plain": [
       "   Coverage      Size     Label\n",
       "0  0.921500  1.820500  marginal\n",
       "0  0.917160  1.763314         0\n",
       "0  0.890985  1.886792         1\n",
       "0  0.935547  1.857422         2\n",
       "0  0.940476  1.777778         3"
      ]
     },
     "execution_count": 8,
     "metadata": {},
     "output_type": "execute_result"
    }
   ],
   "source": [
    "# Calibrate the adaptive prediction sets (with pessimistic approach)\n",
    "method_1 = LNSplitConformal(X, Yt, black_box_pt, K, alpha, n_cal=n_cal, M=M, \n",
    "                            rho=rho, rho_tilde=rho_tilde, \n",
    "                            label_conditional=True, allow_empty=True, \n",
    "                            optimistic=False, \n",
    "                            verbose=True, pre_trained=True, random_state=random_state)\n",
    "\n",
    "# Construct the prediction sets for the test data\n",
    "S_1 = method_1.predict(X_test)\n",
    "\n",
    "# Evaluate the prediction sets\n",
    "res_1 = evaluate_predictions(S_1, X_test, Y_test, K, verbose=False)\n",
    "res_1"
   ]
  },
  {
   "cell_type": "code",
   "execution_count": 9,
   "id": "4ca1b6b5",
   "metadata": {},
   "outputs": [
    {
     "name": "stdout",
     "output_type": "stream",
     "text": [
      "Skipping training.\n",
      "Evaluating conformity scores on 2000 calibration samples...\n",
      "Evaluation of conformity scores completed.\n",
      "Calibrating conformity scores for 4 classes...\n",
      "Calibration of conformity scores completed.\n"
     ]
    },
    {
     "data": {
      "text/html": [
       "<div>\n",
       "<style scoped>\n",
       "    .dataframe tbody tr th:only-of-type {\n",
       "        vertical-align: middle;\n",
       "    }\n",
       "\n",
       "    .dataframe tbody tr th {\n",
       "        vertical-align: top;\n",
       "    }\n",
       "\n",
       "    .dataframe thead th {\n",
       "        text-align: right;\n",
       "    }\n",
       "</style>\n",
       "<table border=\"1\" class=\"dataframe\">\n",
       "  <thead>\n",
       "    <tr style=\"text-align: right;\">\n",
       "      <th></th>\n",
       "      <th>Coverage</th>\n",
       "      <th>Size</th>\n",
       "      <th>Label</th>\n",
       "    </tr>\n",
       "  </thead>\n",
       "  <tbody>\n",
       "    <tr>\n",
       "      <th>0</th>\n",
       "      <td>0.921000</td>\n",
       "      <td>1.815000</td>\n",
       "      <td>marginal</td>\n",
       "    </tr>\n",
       "    <tr>\n",
       "      <th>0</th>\n",
       "      <td>0.915187</td>\n",
       "      <td>1.761341</td>\n",
       "      <td>0</td>\n",
       "    </tr>\n",
       "    <tr>\n",
       "      <th>0</th>\n",
       "      <td>0.890985</td>\n",
       "      <td>1.878407</td>\n",
       "      <td>1</td>\n",
       "    </tr>\n",
       "    <tr>\n",
       "      <th>0</th>\n",
       "      <td>0.935547</td>\n",
       "      <td>1.849609</td>\n",
       "      <td>2</td>\n",
       "    </tr>\n",
       "    <tr>\n",
       "      <th>0</th>\n",
       "      <td>0.940476</td>\n",
       "      <td>1.773810</td>\n",
       "      <td>3</td>\n",
       "    </tr>\n",
       "  </tbody>\n",
       "</table>\n",
       "</div>"
      ],
      "text/plain": [
       "   Coverage      Size     Label\n",
       "0  0.921000  1.815000  marginal\n",
       "0  0.915187  1.761341         0\n",
       "0  0.890985  1.878407         1\n",
       "0  0.935547  1.849609         2\n",
       "0  0.940476  1.773810         3"
      ]
     },
     "execution_count": 9,
     "metadata": {},
     "output_type": "execute_result"
    }
   ],
   "source": [
    "# Calibrate the adaptive prediction sets (with optimistic approach)\n",
    "method_2 = LNSplitConformal(X, Yt, black_box_pt, K, alpha, n_cal=n_cal, M=M, \n",
    "                            rho=rho, rho_tilde=rho_tilde, \n",
    "                            label_conditional=True, allow_empty=True, \n",
    "                            optimistic=True, \n",
    "                            verbose=True, pre_trained=True, random_state=random_state)\n",
    "\n",
    "# Construct the prediction sets for the test data\n",
    "S_2 = method_2.predict(X_test)\n",
    "\n",
    "# Evaluate the prediction sets\n",
    "res_2 = evaluate_predictions(S_2, X_test, Y_test, K, verbose=False)\n",
    "res_2"
   ]
  },
  {
   "cell_type": "markdown",
   "id": "03aa0849",
   "metadata": {},
   "source": [
    "## Compare the results"
   ]
  },
  {
   "cell_type": "code",
   "execution_count": 10,
   "id": "5dea1a5f",
   "metadata": {},
   "outputs": [
    {
     "data": {
      "image/png": "[encoded data removed]",
      "text/plain": [
       "<Figure size 1000x400 with 2 Axes>"
      ]
     },
     "metadata": {},
     "output_type": "display_data"
    }
   ],
   "source": [
    "# Combine results\n",
    "res_0['Method'] = \"Standard\"\n",
    "res_1['Method'] = \"Adaptive\"\n",
    "res_2['Method'] = \"Adaptive+\"\n",
    "res = pd.concat([res_0, res_1, res_2])\n",
    "res['Seed'] = random_state\n",
    "res['Alpha'] = alpha\n",
    "\n",
    "# Make plot\n",
    "fig, ax = plt.subplots(1, 2, figsize=(10, 4))\n",
    "\n",
    "sns.barplot(data=res, x=\"Label\", y=\"Coverage\", hue='Method', ax=ax[0])\n",
    "ax[0].axhline(1-alpha, color='black', linestyle='dashed')\n",
    "ax[0].legend([],[], frameon=False)\n",
    "\n",
    "sns.barplot(data=res, x=\"Label\", y=\"Size\", hue='Method', ax=ax[1])\n",
    "ax[1].legend(bbox_to_anchor=(1.05, 1), loc=2, borderaxespad=0.)\n",
    "\n",
    "plt.show()"
   ]
  }
 ],
 "metadata": {
  "kernelspec": {
   "display_name": "Python 3 (ipykernel)",
   "language": "python",
   "name": "python3"
  },
  "language_info": {
   "codemirror_mode": {
    "name": "ipython",
    "version": 3
   },
   "file_extension": ".py",
   "mimetype": "text/x-python",
   "name": "python",
   "nbconvert_exporter": "python",
   "pygments_lexer": "ipython3",
   "version": "3.8.10"
  }
 },
 "nbformat": 4,
 "nbformat_minor": 5
}
